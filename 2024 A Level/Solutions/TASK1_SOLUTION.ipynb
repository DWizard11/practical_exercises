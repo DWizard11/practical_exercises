{
 "cells": [
  {
   "cell_type": "markdown",
   "metadata": {},
   "source": [
    "## Task 1.1\n",
    "\n",
    "Write a program to set up the game for 2 players by:\n",
    "- creating a list for each player\n",
    "- randomly generating 10 cards (each with a colour and number) to each player's list.\n",
    "\n",
    "Test your program by outputting the contents of each player's hand.\n"
   ]
  },
  {
   "cell_type": "code",
   "execution_count": 7,
   "metadata": {},
   "outputs": [
    {
     "name": "stdout",
     "output_type": "stream",
     "text": [
      "Player 1: [(3, 'green'), (1, 'blue'), (3, 'blue'), (2, 'red'), (1, 'blue'), (1, 'blue'), (3, 'green'), (2, 'green'), (2, 'red'), (2, 'green')]\n",
      "Player 2: [(2, 'blue'), (3, 'red'), (3, 'blue'), (4, 'green'), (1, 'green'), (2, 'red'), (1, 'red'), (1, 'red'), (2, 'red'), (4, 'blue')]\n"
     ]
    }
   ],
   "source": [
    "# Task 1.1\n",
    "import random\n",
    "\n",
    "\n",
    "nums = (1, 2, 3, 4)\n",
    "colours = (\"red\", \"green\", \"blue\")\n",
    "\n",
    "def generate_hand():\n",
    "    hand = []\n",
    "    for _ in range(10):\n",
    "        hand.append((random.choice(nums), random.choice(colours)))\n",
    "    \n",
    "    return hand\n",
    "\n",
    "\n",
    "# Create hands and output them\n",
    "player1 = generate_hand()\n",
    "player2 = generate_hand()\n",
    "\n",
    "print(\"Player 1:\", player1)\n",
    "print(\"Player 2:\", player2)"
   ]
  },
  {
   "cell_type": "markdown",
   "metadata": {},
   "source": [
    "## Task 1.2\n",
    "\n",
    "Write a function that takes the colour of two cards as parameters and returns the result of the comparison. The function should return '1' if the first colour wins, '2' if the second colour wins and '3' if the colours are the same.\n"
   ]
  },
  {
   "cell_type": "code",
   "execution_count": 8,
   "metadata": {},
   "outputs": [],
   "source": [
    "# Task 1.2\n",
    "colour_rank = {\"red\": 0, \"green\": 1, \"blue\": 2}  # lower rank wins\n",
    "\n",
    "def compare_colours(c1, c2):\n",
    "    if colour_rank[c1] == colour_rank[c2]:  # tied\n",
    "        return 3\n",
    "    elif colour_rank[c1] < colour_rank[c2]:  # first colour wins\n",
    "        return 1\n",
    "    else:  # second colour wins\n",
    "        return 2"
   ]
  },
  {
   "cell_type": "markdown",
   "metadata": {},
   "source": [
    "## Task 1.3\n",
    "\n",
    "The cards in each hand now need to be sorted into numerical order.\n",
    "\n",
    "Write a function to take a hand as a parameter, sort the hand in-place into ascending numerical order, and return the sorted hand. If two cards have the same number, the colours are compared to position the cards in this order: red, green, blue.\n",
    "\n",
    "Call the function to sort each of the 2 players' hands. Output the contents of each hand before and after sorting. The contents of a hand must be output on one line.\n",
    "\n",
    "Do not use a built-in sorting function."
   ]
  },
  {
   "cell_type": "code",
   "execution_count": 14,
   "metadata": {},
   "outputs": [
    {
     "name": "stdout",
     "output_type": "stream",
     "text": [
      "Before sorting of hands\n",
      "Player 1: [(1, 'blue'), (1, 'blue'), (1, 'blue'), (2, 'red'), (2, 'red'), (2, 'green'), (2, 'green'), (3, 'green'), (3, 'green'), (3, 'blue')]\n",
      "Player 2: [(1, 'red'), (1, 'red'), (1, 'green'), (2, 'red'), (2, 'red'), (2, 'blue'), (3, 'red'), (3, 'blue'), (4, 'green'), (4, 'blue')]\n",
      "\n",
      "After sorting of hands\n",
      "Player 1: [(1, 'blue'), (1, 'blue'), (1, 'blue'), (2, 'red'), (2, 'red'), (2, 'green'), (2, 'green'), (3, 'green'), (3, 'green'), (3, 'blue')]\n",
      "Player 2: [(1, 'red'), (1, 'red'), (1, 'green'), (2, 'red'), (2, 'red'), (2, 'blue'), (3, 'red'), (3, 'blue'), (4, 'green'), (4, 'blue')]\n"
     ]
    }
   ],
   "source": [
    "# Task 1.3\n",
    "# Can either choose insertion sort or bubble sort for this subtask.\n",
    "def insertion_sort(hand):\n",
    "    for i in range(1, len(hand)):\n",
    "        key = hand[i]  # extract the i-th card\n",
    "        j = i - 1\n",
    "        # compare with the previous cards, shifting them to the right where necessary\n",
    "        while j >= 0 and (hand[j][0] > key[0]\n",
    "                          or (hand[j][0] == key[0] and colour_rank[hand[j][1]] > colour_rank[key[1]])):\n",
    "            hand[j + 1] = hand[j]  # shift card to the right\n",
    "            j -= 1  # move to next card on the left\n",
    "        \n",
    "        hand[j + 1] = key  # insert key into the correct position\n",
    "\n",
    "\n",
    "# Output original contents\n",
    "print(\"Before sorting of hands\")\n",
    "print(\"Player 1:\", player1)\n",
    "print(\"Player 2:\", player2)\n",
    "print()\n",
    "\n",
    "# Sort\n",
    "insertion_sort(player1)\n",
    "insertion_sort(player2)\n",
    "\n",
    "# Output sorted contents\n",
    "print(\"After sorting of hands\")\n",
    "print(\"Player 1:\", player1)\n",
    "print(\"Player 2:\", player2)"
   ]
  },
  {
   "cell_type": "markdown",
   "metadata": {},
   "source": [
    "\n",
    "## Task 1.4\n",
    "\n",
    "The cards are compared in pairs, starting with the first card from player 1 compared to the first card from player 2.\n",
    "\n",
    "The appropriate numbers are added to each player's score until all of the 10 cards have been used.\n",
    "\n",
    "Write a function to calculate and return the final score for each of the 2 players.\n",
    "\n",
    "Test your program by:\n",
    "- outputting the sorted hand and the final score for player 1 on one line\n",
    "- outputting the sorted hand and the final score for player 2 on one line.\n"
   ]
  },
  {
   "cell_type": "code",
   "execution_count": null,
   "metadata": {},
   "outputs": [],
   "source": [
    "# Task 1.4\n"
   ]
  },
  {
   "cell_type": "markdown",
   "metadata": {},
   "source": [
    "## Task 1.5\n",
    "\n",
    "Write a function to calculate and output which player has won (has the higher final score), and which player has come second.\n",
    "\n",
    "There must be a suitable output if there is a draw.\n",
    "\n",
    "All outputs must have an appropriate message.\n",
    "\n",
    "Test your program."
   ]
  },
  {
   "cell_type": "code",
   "execution_count": null,
   "metadata": {},
   "outputs": [],
   "source": [
    "# Task 1.5\n"
   ]
  }
 ],
 "metadata": {
  "kernelspec": {
   "display_name": "Python 3",
   "language": "python",
   "name": "python3"
  },
  "language_info": {
   "codemirror_mode": {
    "name": "ipython",
    "version": 3
   },
   "file_extension": ".py",
   "mimetype": "text/x-python",
   "name": "python",
   "nbconvert_exporter": "python",
   "pygments_lexer": "ipython3",
   "version": "3.12.4"
  }
 },
 "nbformat": 4,
 "nbformat_minor": 2
}
