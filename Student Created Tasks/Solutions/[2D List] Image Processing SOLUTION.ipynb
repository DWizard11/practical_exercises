{
 "cells": [
  {
   "cell_type": "code",
   "execution_count": 14,
   "metadata": {},
   "outputs": [
    {
     "name": "stdout",
     "output_type": "stream",
     "text": [
      "First 5 rows of original pixels:\n",
      "[(128, 0, 128), (255, 0, 255), (255, 165, 0), (128, 0, 128), (0, 0, 255), (0, 0, 255), (255, 192, 203), (255, 192, 203), (255, 0, 255), (255, 0, 0), (128, 0, 128), (255, 255, 0), (0, 255, 0), (0, 255, 0), (128, 0, 128), (0, 255, 0), (0, 255, 0), (255, 165, 0), (0, 255, 255), (255, 255, 0)]\n",
      "[(255, 0, 255), (255, 0, 255), (255, 0, 255), (255, 255, 0), (0, 255, 0), (255, 0, 0), (255, 192, 203), (255, 0, 255), (255, 165, 0), (0, 255, 0), (255, 165, 0), (255, 165, 0), (255, 165, 0), (0, 255, 255), (128, 0, 128), (0, 0, 255), (0, 255, 255), (255, 0, 0), (255, 192, 203), (255, 0, 255)]\n",
      "[(128, 0, 128), (255, 255, 0), (255, 255, 0), (255, 0, 0), (0, 255, 0), (255, 0, 0), (0, 255, 255), (0, 255, 255), (255, 255, 0), (128, 0, 128), (255, 0, 255), (0, 0, 255), (255, 165, 0), (255, 0, 255), (255, 0, 0), (0, 0, 255), (255, 165, 0), (0, 255, 0), (255, 0, 0), (128, 0, 128)]\n",
      "[(128, 0, 128), (255, 255, 0), (255, 0, 0), (255, 255, 0), (128, 0, 128), (128, 0, 128), (255, 255, 0), (255, 0, 0), (0, 255, 255), (255, 0, 0), (0, 255, 0), (128, 0, 128), (128, 0, 128), (0, 255, 0), (128, 0, 128), (0, 255, 0), (0, 0, 255), (255, 255, 0), (255, 192, 203), (0, 0, 255)]\n",
      "[(255, 255, 0), (255, 192, 203), (255, 165, 0), (255, 0, 255), (0, 255, 255), (255, 255, 0), (255, 0, 0), (0, 255, 255), (255, 255, 0), (0, 0, 255), (255, 165, 0), (0, 255, 255), (255, 165, 0), (255, 0, 0), (0, 255, 0), (255, 0, 255), (255, 0, 255), (255, 255, 0), (255, 165, 0), (0, 255, 255)]\n"
     ]
    }
   ],
   "source": [
    "# Task 1.1\n",
    "def read_pixels(filename):\n",
    "    # file closes after with block\n",
    "    with open(filename, \"r\") as file:\n",
    "        data = file.readlines()\n",
    "    \n",
    "    pixel_data = []\n",
    "    for line in data:\n",
    "        row = []\n",
    "        # split the line into the pixel values\n",
    "        pixel_substr = line.strip().split(\") \")\n",
    "        for pixel in pixel_substr:\n",
    "            # get rid of brackets\n",
    "            pixel = pixel.replace(\"(\", \"\").replace(\")\", \"\")\n",
    "            if pixel:  # if non-empty string\n",
    "                parts = pixel.split(\", \")  # split into list of 3 parts\n",
    "                # extract RGB values as integers\n",
    "                r = int(parts[0])\n",
    "                g = int(parts[1])\n",
    "                b = int(parts[2])\n",
    "                # store tuple of RGB values in row\n",
    "                row.append((r, g, b))\n",
    "        pixel_data.append(row)\n",
    "    \n",
    "    return pixel_data\n",
    "\n",
    "# Test\n",
    "pixel_data = read_pixels(\"image.txt\")\n",
    "print(\"First 5 rows of original pixels:\")\n",
    "for row in pixel_data[:5]:\n",
    "    print(row)"
   ]
  },
  {
   "cell_type": "code",
   "execution_count": 15,
   "metadata": {},
   "outputs": [
    {
     "name": "stdout",
     "output_type": "stream",
     "text": [
      "First 5 rows of monochrome pixels:\n",
      "[85, 170, 140, 85, 85, 85, 216, 216, 170, 85, 85, 170, 85, 85, 85, 85, 85, 140, 170, 170]\n",
      "[170, 170, 170, 170, 85, 85, 216, 170, 140, 85, 140, 140, 140, 170, 85, 85, 170, 85, 216, 170]\n",
      "[85, 170, 170, 85, 85, 85, 170, 170, 170, 85, 170, 85, 140, 170, 85, 85, 140, 85, 85, 85]\n",
      "[85, 170, 85, 170, 85, 85, 170, 85, 170, 85, 85, 85, 85, 85, 85, 85, 85, 170, 216, 85]\n",
      "[170, 216, 140, 170, 170, 170, 85, 170, 170, 85, 140, 170, 140, 85, 85, 170, 170, 170, 140, 170]\n"
     ]
    }
   ],
   "source": [
    "# Task 1.2\n",
    "def monochrome(pixel_data):\n",
    "    data = []\n",
    "    \n",
    "    for row in pixel_data:\n",
    "        monochrome_row = []\n",
    "        for rgb_tuple in row:\n",
    "            r, g, b = rgb_tuple  # extract r, g, b values\n",
    "            # compute grayscale value using average of r, g, b\n",
    "            grayscale_val = int((r + g + b) / 3)\n",
    "            monochrome_row.append(grayscale_val)\n",
    "        data.append(monochrome_row)\n",
    "    \n",
    "    return data\n",
    "\n",
    "# Test\n",
    "monochrome_data = monochrome(pixel_data)\n",
    "print(\"First 5 rows of monochrome pixels:\")\n",
    "for row in monochrome_data[:5]:\n",
    "    print(row)"
   ]
  },
  {
   "cell_type": "code",
   "execution_count": 18,
   "metadata": {},
   "outputs": [
    {
     "name": "stdout",
     "output_type": "stream",
     "text": [
      "First 5 rows of blurred pixels:\n",
      "[85, 170, 140, 85, 85, 85, 216, 216, 170, 85, 85, 170, 85, 85, 85, 85, 85, 140, 170, 170]\n",
      "[170, 147, 147, 119, 94, 123, 157, 182, 143, 125, 116, 128, 131, 116, 103, 100, 106, 130, 134, 170]\n",
      "[85, 141, 151, 122, 103, 118, 137, 162, 128, 125, 106, 118, 122, 116, 103, 100, 110, 139, 133, 85]\n",
      "[85, 143, 152, 128, 122, 122, 132, 151, 132, 128, 110, 122, 116, 106, 103, 110, 128, 140, 134, 85]\n",
      "[170, 143, 152, 138, 132, 122, 132, 151, 141, 138, 128, 125, 116, 97, 100, 113, 132, 152, 149, 170]\n"
     ]
    }
   ],
   "source": [
    "# Task 1.3\n",
    "\n",
    "# function to get average of a pixel at (i, j) and its neighbours\n",
    "def get_avg(i, j, data):\n",
    "    rows = len(data)\n",
    "    cols = len(data[0])\n",
    "    total = 0\n",
    "    count = 0\n",
    "    \n",
    "    for x in range(-1, 2):  # loop from -1 to 1 rows\n",
    "        for y in range(-1, 2):  # loop from -1 to 1 columns\n",
    "            # check if neighbour is within bounds\n",
    "            if 0 <= i + x < rows and 0 <= j + y < cols:\n",
    "                # add value of pixel\n",
    "                total += data[i + x][j + y]\n",
    "                count += 1\n",
    "                \n",
    "    return int(total / count)\n",
    "    \n",
    "# function to blur image\n",
    "def blur(data):\n",
    "    rows = len(data)\n",
    "    cols = len(data[0])\n",
    "    \n",
    "    # initialise a matrix of zeros to store the blurred image data\n",
    "    blurred_data = [[0]*cols for _ in range(rows)]\n",
    "    \n",
    "    # keep border pixels exactly the same\n",
    "    for i in range(rows):\n",
    "        blurred_data[i][0] = data[i][0]  # first col\n",
    "        blurred_data[i][-1] = data[i][-1]  # last col\n",
    "    \n",
    "    for j in range(cols):\n",
    "        blurred_data[0][j] = data[0][j]  # first row\n",
    "        blurred_data[-1][j] = data[-1][j]  # last row\n",
    "    \n",
    "    # loop through all other pixels and compute average\n",
    "    for i in range(1, rows - 1):\n",
    "        for j in range(1, cols - 1):\n",
    "            # apply blur to pixel at (i, j)\n",
    "            blurred_data[i][j] = get_avg(i, j, data)\n",
    "            \n",
    "    return blurred_data\n",
    "\n",
    "# Test\n",
    "blurred_data = blur(monochrome_data)\n",
    "print(\"First 5 rows of blurred pixels:\")\n",
    "for row in blurred_data[:5]:\n",
    "    print(row)"
   ]
  },
  {
   "cell_type": "code",
   "execution_count": 19,
   "metadata": {},
   "outputs": [],
   "source": [
    "# Task 1.4\n",
    "def write_monochrome(filename, data):\n",
    "    # file closes after with block\n",
    "    with open(filename, \"w\") as file:\n",
    "        for row in data:\n",
    "            row_str = \" \".join([str(value) for value in row])\n",
    "            file.write(row_str + \"\\n\")\n",
    "\n",
    "# Write data into text files\n",
    "write_monochrome(\"monochrome.txt\", monochrome_data)\n",
    "write_monochrome(\"blurred.txt\", blurred_data)"
   ]
  }
 ],
 "metadata": {
  "kernelspec": {
   "display_name": "Python 3",
   "language": "python",
   "name": "python3"
  },
  "language_info": {
   "codemirror_mode": {
    "name": "ipython",
    "version": 3
   },
   "file_extension": ".py",
   "mimetype": "text/x-python",
   "name": "python",
   "nbconvert_exporter": "python",
   "pygments_lexer": "ipython3",
   "version": "3.12.4"
  }
 },
 "nbformat": 4,
 "nbformat_minor": 2
}
