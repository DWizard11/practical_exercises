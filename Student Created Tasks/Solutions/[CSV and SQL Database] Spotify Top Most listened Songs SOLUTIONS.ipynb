{
 "cells": [
  {
   "cell_type": "code",
   "execution_count": 1,
   "metadata": {},
   "outputs": [
    {
     "name": "stdout",
     "output_type": "stream",
     "text": [
      "[['LALA', 'Myke Towers', '2023', '3', '23', '133716286', 'https://i.scdn.co/image/ab67616d0000b2730656d5ce813ca3cc4b677e05'], ['vampire', 'Olivia Rodrigo', '2023', '6', '30', '140003974', 'https://i.scdn.co/image/ab67616d0000b273e85259a1cae29a8d91f2093d'], ['Cruel Summer', 'Taylor Swift', '2019', '8', '23', '800840817', 'https://i.scdn.co/image/ab67616d0000b273e787cffec20aa2a396a61647'], ['WHERE SHE GOES', 'Bad Bunny', '2023', '5', '18', '303236322', 'https://i.scdn.co/image/ab67616d0000b273ab5c9cd818ad6ed3e9b79cd1'], ['Sprinter', 'Dave, Central Cee', '2023', '6', '1', '183706234', 'https://i.scdn.co/image/ab67616d0000b273e3a09a9ae3f1fa102c110e60'], ['Ella Baila Sola', 'Eslabon Armado, Peso Pluma', '2023', '3', '16', '725980112', 'https://i.scdn.co/image/ab67616d0000b2732071a0c79802d9375a53bfef']]\n"
     ]
    }
   ],
   "source": [
    "# Taks 1.1\n",
    "\n",
    "\n",
    "import csv\n",
    "\n",
    "filename = \"Spotify Most Streamed Songs.csv\"\n",
    "spotify_streams = []\n",
    "\n",
    "# File closes after with block\n",
    "with open(filename, 'r') as file:\n",
    "    reader = csv.reader(file, delimiter=\",\")\n",
    "    next(reader)\n",
    "    for row in reader:\n",
    "        if row[-1] == \"Not Found\":\n",
    "            continue\n",
    "        # Appending to the list with the filtered column\n",
    "        spotify_streams.append(row[0:2] + row[3:6] + row[8:9] + row[-1:])\n",
    "\n",
    "print(spotify_streams[0:6])"
   ]
  },
  {
   "cell_type": "code",
   "execution_count": 2,
   "metadata": {},
   "outputs": [],
   "source": [
    "# Task 1.2\n",
    "\n",
    "\n",
    "import sqlite3\n",
    "\n",
    "conn = sqlite3.connect(\"Spotify.db\")\n",
    "cursor = conn.cursor()\n",
    "\n",
    "# Create table Song\n",
    "cursor.execute(\"\"\"\n",
    "    CREATE TABLE IF NOT EXISTS Song (\n",
    "        song_id INTEGER PRIMARY KEY AUTOINCREMENT,\n",
    "        track_name TEXT,\n",
    "        released_year INTEGER,\n",
    "        released_month INTEGER,\n",
    "        released_day INTEGER,\n",
    "        streams INTEGER,\n",
    "        cover_url TEXT\n",
    "    )\n",
    "\"\"\")\n",
    "\n",
    "# Insert the songs into the table\n",
    "for stream in spotify_streams:\n",
    "    cursor.execute(\"\"\"\n",
    "        INSERT INTO Song(track_name, released_year, released_month, released_day, streams, cover_url)\n",
    "        VALUES(?,?,?,?,?,?)\n",
    "    \"\"\", (stream[0], int(stream[2]), int(stream[3]), int(stream[4]), int(stream[5]), stream[6]))\n",
    "\n",
    "conn.commit()\n",
    "conn.close()"
   ]
  },
  {
   "cell_type": "code",
   "execution_count": 3,
   "metadata": {},
   "outputs": [],
   "source": [
    "# Task 1.3\n",
    "\n",
    "artist_list = []\n",
    "\n",
    "# Loop through all the songs\n",
    "for row in spotify_streams:\n",
    "    if row[1] not in artist_list:\n",
    "        artists = row[1].split(\", \") # Split the artist into a list if there is more than 1 artist\n",
    "        for artist in artists:\n",
    "            if artist not in artist_list: # Check if the artist is not already in the list\n",
    "                artist_list.append(artist)\n",
    "\n",
    "conn = sqlite3.connect(\"Spotify.db\")\n",
    "cursor = conn.cursor()\n",
    "\n",
    "cursor.execute(\"\"\"\n",
    "    CREATE TABLE IF NOT EXISTS Artist (\n",
    "        artist_id INTEGER PRIMARY KEY AUTOINCREMENT,\n",
    "        artist_name TEXT\n",
    "    )\n",
    "\"\"\")\n",
    "\n",
    "for artist in artist_list:\n",
    "    cursor.execute(\"\"\"\n",
    "        INSERT INTO Artist(artist_name)\n",
    "        VALUES (?)\n",
    "    \"\"\", (artist,))\n",
    "\n",
    "conn.commit()\n",
    "conn.close()"
   ]
  },
  {
   "cell_type": "code",
   "execution_count": 4,
   "metadata": {},
   "outputs": [],
   "source": [
    "# Task 1.4\n",
    "\n",
    "conn = sqlite3.connect(\"Spotify.db\")\n",
    "cursor = conn.cursor()\n",
    "\n",
    "cursor.execute(\"\"\"\n",
    "    CREATE TABLE IF NOT EXISTS SongArtist(\n",
    "        song_id INTEGER,\n",
    "        artist_id INTEGER,\n",
    "        \n",
    "        PRIMARY KEY(song_id, artist_id),\n",
    "        FOREIGN KEY(song_id) REFERENCES Song(song_id)  \n",
    "        FOREIGN KEY (artist_id) REFERENCES Artist(artist_id)\n",
    "    )\n",
    "\"\"\")\n",
    "\n",
    "conn.commit()\n",
    "conn.close()"
   ]
  },
  {
   "cell_type": "code",
   "execution_count": 5,
   "metadata": {},
   "outputs": [],
   "source": [
    "# Task 1.5\n",
    "\n",
    "conn = sqlite3.connect(\"Spotify.db\")\n",
    "cursor = conn.cursor()\n",
    "\n",
    "# Loop through every song\n",
    "for stream in spotify_streams:\n",
    "    artists = stream[1].split(\", \") # Split into a list\n",
    "    for artist in artists: \n",
    "        cursor.execute(\"\"\"\n",
    "            INSERT INTO SongArtist(song_id, artist_id)\n",
    "            SELECT \n",
    "                (SELECT song_id FROM Song WHERE track_name = ?), (SELECT artist_id FROM artist WHERE artist_name = ?)\n",
    "        \"\"\", (stream[0], artist))\n",
    "\n",
    "conn.commit()\n",
    "conn.close()"
   ]
  },
  {
   "cell_type": "code",
   "execution_count": 6,
   "metadata": {},
   "outputs": [
    {
     "name": "stdout",
     "output_type": "stream",
     "text": [
      "[('I Wanna Be Yours', 1297026226), ('Counting Stars', 2011464183), ('Do I Wanna Know?', 1788326445), ('Take Me To Church', 2135158446), ('Santa Tell Me', 834129063), ('Underneath the Tree', 485285717), ('All of Me', 2086124197), ('Ginseng Strip 2002', 240769997), ('Thinking with My Dick', 109091573), ('Wake Me Up - Radio Edit', 1970673297), ('Bound 2', 703301727)]\n",
      "[('Sweater Weather', 2282771485)]\n",
      "[(2022, 302), (2023, 114), (2021, 78), (2019, 33), (2020, 30), (2017, 19), (2016, 18), (2014, 12), (2015, 11), (2013, 11)]\n"
     ]
    }
   ],
   "source": [
    "# Task 1.6\n",
    "\n",
    "conn = sqlite3.connect(\"Spotify.db\")\n",
    "cursor = conn.cursor()\n",
    "\n",
    "cursor.execute(\"\"\"\n",
    "    SELECT track_name, streams \n",
    "    FROM Song\n",
    "    WHERE released_year = 2013\n",
    "\"\"\")\n",
    "\n",
    "print(cursor.fetchall())\n",
    "\n",
    "cursor.execute(\"\"\"\n",
    "    SELECT track_name, MAX(streams)\n",
    "    FROM Song\n",
    "    WHERE released_year = 2012\n",
    "\"\"\")\n",
    "\n",
    "print(cursor.fetchall())\n",
    "\n",
    "cursor.execute(\"\"\"\n",
    "    SELECT released_year, COUNT(*) \n",
    "    FROM Song\n",
    "    GROUP BY released_year\n",
    "    HAVING COUNT(*) > 10\n",
    "    ORDER BY COUNT(*) DESC\n",
    "\"\"\")\n",
    "\n",
    "print(cursor.fetchall())\n",
    "\n",
    "conn.close()"
   ]
  },
  {
   "cell_type": "code",
   "execution_count": 7,
   "metadata": {},
   "outputs": [
    {
     "name": "stdout",
     "output_type": "stream",
     "text": [
      "[('vampire', 140003974, 'Olivia Rodrigo'), ('good 4 u', 1887039593, 'Olivia Rodrigo'), ('drivers license', 1858144199, 'Olivia Rodrigo'), ('deja vu', 1256880657, 'Olivia Rodrigo'), ('happier', 850608354, 'Olivia Rodrigo'), ('favorite crime', 783706581, 'Olivia Rodrigo'), ('jealousy, jealousy', 665765558, 'Olivia Rodrigo')]\n"
     ]
    }
   ],
   "source": [
    "# Task 1.7\n",
    "\n",
    "conn = sqlite3.connect(\"Spotify.db\")\n",
    "cursor = conn.cursor()\n",
    "\n",
    "cursor.execute(\"\"\"\n",
    "    SELECT track_name, streams, artist_name \n",
    "    FROM Song\n",
    "    INNER JOIN SongArtist\n",
    "    ON Song.song_id = SongArtist.song_id\n",
    "    INNER JOIN Artist\n",
    "    ON SongArtist.artist_id = Artist.artist_id\n",
    "    WHERE artist_name = 'Olivia Rodrigo'\n",
    "\"\"\")\n",
    "\n",
    "print(cursor.fetchall())\n",
    "\n",
    "conn.close()"
   ]
  },
  {
   "cell_type": "code",
   "execution_count": 8,
   "metadata": {},
   "outputs": [
    {
     "name": "stdout",
     "output_type": "stream",
     "text": [
      "[('Taylor Swift', 33)]\n"
     ]
    }
   ],
   "source": [
    "# Task 1.8\n",
    "\n",
    "conn = sqlite3.connect(\"Spotify.db\")\n",
    "cursor = conn.cursor()\n",
    "\n",
    "cursor.execute(\"\"\"\n",
    "    SELECT artist_name, COUNT(SongArtist.artist_id)\n",
    "    FROM SongArtist\n",
    "    INNER JOIN Artist\n",
    "    ON SongArtist.artist_id = Artist.artist_id\n",
    "    GROUP BY SongArtist.artist_id\n",
    "    ORDER BY COUNT(SongArtist.artist_id) DESC\n",
    "    LIMIT 1\n",
    "\"\"\")\n",
    "\n",
    "print(cursor.fetchall())\n",
    "\n",
    "conn.close()"
   ]
  }
 ],
 "metadata": {
  "kernelspec": {
   "display_name": "Python 3",
   "language": "python",
   "name": "python3"
  },
  "language_info": {
   "codemirror_mode": {
    "name": "ipython",
    "version": 3
   },
   "file_extension": ".py",
   "mimetype": "text/x-python",
   "name": "python",
   "nbconvert_exporter": "python",
   "pygments_lexer": "ipython3",
   "version": "3.12.1"
  }
 },
 "nbformat": 4,
 "nbformat_minor": 2
}
